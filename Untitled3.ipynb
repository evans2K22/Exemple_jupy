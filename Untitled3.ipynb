{
 "cells": [
  {
   "cell_type": "code",
   "execution_count": 8,
   "id": "12f26c1b-0056-4a93-a4ec-06dffe86dd6d",
   "metadata": {},
   "outputs": [
    {
     "data": {
      "text/plain": [
       "34"
      ]
     },
     "execution_count": 8,
     "metadata": {},
     "output_type": "execute_result"
    }
   ],
   "source": [
    "a=12\n",
    "b=22\n",
    "a + b"
   ]
  },
  {
   "cell_type": "markdown",
   "id": "ade8826c-0d07-4c4f-be95-290cf96dc4cc",
   "metadata": {},
   "source": [
    "Goly Jean François Eric"
   ]
  },
  {
   "cell_type": "code",
   "execution_count": null,
   "id": "51396d24-5f5f-42bc-9feb-1d14a9a85f6e",
   "metadata": {},
   "outputs": [],
   "source": []
  }
 ],
 "metadata": {
  "kernelspec": {
   "display_name": "Python 3 (ipykernel)",
   "language": "python",
   "name": "python3"
  },
  "language_info": {
   "codemirror_mode": {
    "name": "ipython",
    "version": 3
   },
   "file_extension": ".py",
   "mimetype": "text/x-python",
   "name": "python",
   "nbconvert_exporter": "python",
   "pygments_lexer": "ipython3",
   "version": "3.12.4"
  }
 },
 "nbformat": 4,
 "nbformat_minor": 5
}
